{
 "cells": [
  {
   "cell_type": "code",
   "execution_count": 67,
   "metadata": {},
   "outputs": [],
   "source": [
    "import json\n",
    "import requests\n",
    "import string\n",
    "import random\n",
    "\n",
    "count = 500\n",
    "with open('YOU-API/you-API.txt', 'r') as f:\n",
    "    API_KEY = f.read()\n",
    "w = []\n",
    "for i in range(20):\n",
    "    que = ''.join(random.choice(string.ascii_uppercase + string.digits) for _ in range(4))\n",
    "\n",
    "    base_url ='https://www.googleapis.com/youtube/v3/search?maxResults={}&q={}&key={}'.format(count,que , API_KEY)\n",
    "    \n",
    "    response = requests.get(base_url)\n",
    "\n",
    "    data = response.json()\n",
    "    for i in range(30):\n",
    "        if data['items'][i]['id']['kind'] == 'youtube#video':\n",
    "            w.append(data['items'][i]['id']['videoId'])\n",
    "        else:\n",
    "            continue"
   ]
  },
  {
   "cell_type": "code",
   "execution_count": 73,
   "metadata": {},
   "outputs": [],
   "source": [
    "list_of_links = []\n",
    "for videoId in w:\n",
    "    list_of_links.append('https://www.youtube.com/watch?v=' + videoId)\n"
   ]
  },
  {
   "cell_type": "code",
   "execution_count": 116,
   "metadata": {},
   "outputs": [],
   "source": [
    "views =[]\n",
    "likes = []\n",
    "dislikes = []\n",
    "commentCount=[]\n",
    "publishedAt = []\n",
    "for i in range(len(w)):\n",
    "    source = 'https://www.googleapis.com/youtube/v3/videos?part=snippet%2CcontentDetails%2Cstatistics&id={}&key={}'.format(w[i], API_KEY)\n",
    "    response_new = requests.get(source)\n",
    "    data = response_new.json()\n",
    "    views.append(int(data['items'][0]['statistics']['viewCount']))\n",
    "    try :\n",
    "        likes.append(int(data['items'][0]['statistics']['likeCount']))\n",
    "    except KeyError:\n",
    "        likes.append(0)\n",
    "    try:\n",
    "        dislikes.append(int(data['items'][0]['statistics']['dislikeCount']))\n",
    "    except KeyError:\n",
    "        dislikes.append(0)\n",
    "    publishedAt.append(data['items'][0]['snippet']['publishedAt'])\n",
    "    try:\n",
    "        commentCount.append(int(data['items'][0]['statistics']['commentCount']))\n",
    "    except KeyError:\n",
    "        commentCount.append(0)\n",
    "        "
   ]
  },
  {
   "cell_type": "code",
   "execution_count": 117,
   "metadata": {},
   "outputs": [],
   "source": [
    "df = {'video_link':list_of_links,\n",
    "      'video_views': views,\n",
    "      'upload_date': publishedAt,\n",
    "      'comments': commentCount,\n",
    "      'likes': likes, \n",
    "      'dislikes': dislikes}"
   ]
  },
  {
   "cell_type": "code",
   "execution_count": 121,
   "metadata": {},
   "outputs": [],
   "source": [
    "import pandas as pd\n",
    "df_csv = pd.DataFrame(df)"
   ]
  },
  {
   "cell_type": "code",
   "execution_count": 123,
   "metadata": {},
   "outputs": [],
   "source": [
    "df_csv.to_csv('Assignment.csv')"
   ]
  },
  {
   "cell_type": "code",
   "execution_count": null,
   "metadata": {},
   "outputs": [],
   "source": []
  }
 ],
 "metadata": {
  "kernelspec": {
   "display_name": "Python 3",
   "language": "python",
   "name": "python3"
  },
  "language_info": {
   "codemirror_mode": {
    "name": "ipython",
    "version": 3
   },
   "file_extension": ".py",
   "mimetype": "text/x-python",
   "name": "python",
   "nbconvert_exporter": "python",
   "pygments_lexer": "ipython3",
   "version": "3.7.6"
  }
 },
 "nbformat": 4,
 "nbformat_minor": 4
}
